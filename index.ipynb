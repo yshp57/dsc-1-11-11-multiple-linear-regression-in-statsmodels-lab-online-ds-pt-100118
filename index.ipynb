{
 "cells": [
  {
   "cell_type": "markdown",
   "metadata": {},
   "source": [
    "# Multiple Linear Regression in Statsmodels - Lab"
   ]
  },
  {
   "cell_type": "markdown",
   "metadata": {},
   "source": [
    "## Introduction\n",
    "In this lab, you'll practice fitting a multiple linear regression model on our Boston Housing Data set!"
   ]
  },
  {
   "cell_type": "markdown",
   "metadata": {},
   "source": [
    "## Objectives\n",
    "You will be able to:\n",
    "* Run linear regression on Boston Housing dataset with all the predictors\n",
    "* Interpret the parameters of the multiple linear regression model"
   ]
  },
  {
   "cell_type": "markdown",
   "metadata": {},
   "source": [
    "## The Boston Housing Data"
   ]
  },
  {
   "cell_type": "markdown",
   "metadata": {},
   "source": [
    "We pre-processed the Boston Housing Data again. This time, however, we did things slightly different:\n",
    "- We dropped \"ZN\" and \"NOX\" completely\n",
    "- We categorized \"RAD\" in 3 bins and \"TAX\" in 4 bins\n",
    "- We used min-max-scaling on \"B\", \"CRIM\" and \"DIS\" (and logtransformed all of them first, except \"B\")\n",
    "- We used standardization on \"AGE\", \"INDUS\", \"LSTAT\" and \"PTRATIO\" (and logtransformed all of them first, except for \"AGE\") "
   ]
  },
  {
   "cell_type": "code",
   "execution_count": 57,
   "metadata": {},
   "outputs": [],
   "source": [
    "import pandas as pd\n",
    "import numpy as np\n",
    "from sklearn.datasets import load_boston\n",
    "boston = load_boston()\n",
    "\n",
    "boston_features = pd.DataFrame(boston.data, columns = boston.feature_names)\n",
    "boston_features = boston_features.drop([\"NOX\",\"ZN\"],axis=1)\n",
    "\n",
    "# first, create bins for based on the values observed. 3 values will result in 2 bins\n",
    "bins = [0,6,  24]\n",
    "bins_rad = pd.cut(boston_features['RAD'], bins)\n",
    "bins_rad = bins_rad.cat.as_unordered()\n",
    "\n",
    "# first, create bins for based on the values observed. 4 values will result in 3 bins\n",
    "bins = [0, 270, 360, 712]\n",
    "bins_tax = pd.cut(boston_features['TAX'], bins)\n",
    "bins_tax = bins_tax.cat.as_unordered()\n",
    "\n",
    "tax_dummy = pd.get_dummies(bins_tax, prefix=\"TAX\")\n",
    "rad_dummy = pd.get_dummies(bins_rad, prefix=\"RAD\")\n",
    "boston_features = boston_features.drop([\"RAD\",\"TAX\"], axis=1)\n",
    "boston_features = pd.concat([boston_features, rad_dummy, tax_dummy], axis=1)"
   ]
  },
  {
   "cell_type": "code",
   "execution_count": 58,
   "metadata": {},
   "outputs": [],
   "source": [
    "age = boston_features[\"AGE\"]\n",
    "b = boston_features[\"B\"]\n",
    "logcrim = np.log(boston_features[\"CRIM\"])\n",
    "logdis = np.log(boston_features[\"DIS\"])\n",
    "logindus = np.log(boston_features[\"INDUS\"])\n",
    "loglstat = np.log(boston_features[\"LSTAT\"])\n",
    "logptratio = np.log(boston_features[\"PTRATIO\"])\n",
    "\n",
    "# minmax scaling\n",
    "boston_features[\"B\"] = (b-min(b))/(max(b)-min(b))\n",
    "boston_features[\"CRIM\"] = (logcrim-min(logcrim))/(max(logcrim)-min(logcrim))\n",
    "boston_features[\"DIS\"] = (logdis-min(logdis))/(max(logdis)-min(logdis))\n",
    "\n",
    "#standardization\n",
    "boston_features[\"AGE\"] = (age-np.mean(age))/np.sqrt(np.var(age))\n",
    "boston_features[\"INDUS\"] = (logindus-np.mean(logindus))/np.sqrt(np.var(logindus))\n",
    "boston_features[\"LSTAT\"] = (loglstat-np.mean(loglstat))/np.sqrt(np.var(loglstat))\n",
    "boston_features[\"PTRATIO\"] = (logptratio-np.mean(logptratio))/(np.sqrt(np.var(logptratio)))"
   ]
  },
  {
   "cell_type": "code",
   "execution_count": 59,
   "metadata": {},
   "outputs": [],
   "source": [
    "boston_features['RAD0to6'] = boston_features['RAD_(0, 6]'] \n",
    "boston_features['RAD6to24'] = boston_features['RAD_(6, 24]']\n",
    "boston_features['TAX0to270'] = boston_features['TAX_(0, 270]'] \n",
    "boston_features['TAX270to360'] = boston_features['TAX_(270, 360]'] \n",
    "boston_features['TAX360to712'] = boston_features['TAX_(360, 712]']\n",
    "\n",
    "boston_features= boston_features.drop(columns=['RAD_(0, 6]', 'RAD_(6, 24]', 'TAX_(0, 270]', 'TAX_(270, 360]', 'TAX_(360, 712]'])"
   ]
  },
  {
   "cell_type": "code",
   "execution_count": 40,
   "metadata": {},
   "outputs": [
    {
     "data": {
      "text/html": [
       "<div>\n",
       "<style scoped>\n",
       "    .dataframe tbody tr th:only-of-type {\n",
       "        vertical-align: middle;\n",
       "    }\n",
       "\n",
       "    .dataframe tbody tr th {\n",
       "        vertical-align: top;\n",
       "    }\n",
       "\n",
       "    .dataframe thead th {\n",
       "        text-align: right;\n",
       "    }\n",
       "</style>\n",
       "<table border=\"1\" class=\"dataframe\">\n",
       "  <thead>\n",
       "    <tr style=\"text-align: right;\">\n",
       "      <th></th>\n",
       "      <th>CRIM</th>\n",
       "      <th>INDUS</th>\n",
       "      <th>CHAS</th>\n",
       "      <th>RM</th>\n",
       "      <th>AGE</th>\n",
       "      <th>DIS</th>\n",
       "      <th>PTRATIO</th>\n",
       "      <th>B</th>\n",
       "      <th>LSTAT</th>\n",
       "      <th>RAD0to6</th>\n",
       "      <th>RAD6to24</th>\n",
       "      <th>TAX0to270</th>\n",
       "      <th>TAX270to360</th>\n",
       "      <th>TAX360to712</th>\n",
       "    </tr>\n",
       "  </thead>\n",
       "  <tbody>\n",
       "    <tr>\n",
       "      <th>0</th>\n",
       "      <td>0.000000</td>\n",
       "      <td>-1.704344</td>\n",
       "      <td>0.0</td>\n",
       "      <td>6.575</td>\n",
       "      <td>-0.120013</td>\n",
       "      <td>0.542096</td>\n",
       "      <td>-1.443977</td>\n",
       "      <td>1.000000</td>\n",
       "      <td>-1.275260</td>\n",
       "      <td>1</td>\n",
       "      <td>0</td>\n",
       "      <td>0</td>\n",
       "      <td>1</td>\n",
       "      <td>0</td>\n",
       "    </tr>\n",
       "    <tr>\n",
       "      <th>1</th>\n",
       "      <td>0.153211</td>\n",
       "      <td>-0.263239</td>\n",
       "      <td>0.0</td>\n",
       "      <td>6.421</td>\n",
       "      <td>0.367166</td>\n",
       "      <td>0.623954</td>\n",
       "      <td>-0.230278</td>\n",
       "      <td>1.000000</td>\n",
       "      <td>-0.263711</td>\n",
       "      <td>1</td>\n",
       "      <td>0</td>\n",
       "      <td>1</td>\n",
       "      <td>0</td>\n",
       "      <td>0</td>\n",
       "    </tr>\n",
       "    <tr>\n",
       "      <th>2</th>\n",
       "      <td>0.153134</td>\n",
       "      <td>-0.263239</td>\n",
       "      <td>0.0</td>\n",
       "      <td>7.185</td>\n",
       "      <td>-0.265812</td>\n",
       "      <td>0.623954</td>\n",
       "      <td>-0.230278</td>\n",
       "      <td>0.989737</td>\n",
       "      <td>-1.627858</td>\n",
       "      <td>1</td>\n",
       "      <td>0</td>\n",
       "      <td>1</td>\n",
       "      <td>0</td>\n",
       "      <td>0</td>\n",
       "    </tr>\n",
       "    <tr>\n",
       "      <th>3</th>\n",
       "      <td>0.171005</td>\n",
       "      <td>-1.778965</td>\n",
       "      <td>0.0</td>\n",
       "      <td>6.998</td>\n",
       "      <td>-0.809889</td>\n",
       "      <td>0.707895</td>\n",
       "      <td>0.165279</td>\n",
       "      <td>0.994276</td>\n",
       "      <td>-2.153192</td>\n",
       "      <td>1</td>\n",
       "      <td>0</td>\n",
       "      <td>1</td>\n",
       "      <td>0</td>\n",
       "      <td>0</td>\n",
       "    </tr>\n",
       "    <tr>\n",
       "      <th>4</th>\n",
       "      <td>0.250315</td>\n",
       "      <td>-1.778965</td>\n",
       "      <td>0.0</td>\n",
       "      <td>7.147</td>\n",
       "      <td>-0.511180</td>\n",
       "      <td>0.707895</td>\n",
       "      <td>0.165279</td>\n",
       "      <td>1.000000</td>\n",
       "      <td>-1.162114</td>\n",
       "      <td>1</td>\n",
       "      <td>0</td>\n",
       "      <td>1</td>\n",
       "      <td>0</td>\n",
       "      <td>0</td>\n",
       "    </tr>\n",
       "  </tbody>\n",
       "</table>\n",
       "</div>"
      ],
      "text/plain": [
       "       CRIM     INDUS  CHAS     RM       AGE       DIS   PTRATIO         B  \\\n",
       "0  0.000000 -1.704344   0.0  6.575 -0.120013  0.542096 -1.443977  1.000000   \n",
       "1  0.153211 -0.263239   0.0  6.421  0.367166  0.623954 -0.230278  1.000000   \n",
       "2  0.153134 -0.263239   0.0  7.185 -0.265812  0.623954 -0.230278  0.989737   \n",
       "3  0.171005 -1.778965   0.0  6.998 -0.809889  0.707895  0.165279  0.994276   \n",
       "4  0.250315 -1.778965   0.0  7.147 -0.511180  0.707895  0.165279  1.000000   \n",
       "\n",
       "      LSTAT  RAD0to6  RAD6to24  TAX0to270  TAX270to360  TAX360to712  \n",
       "0 -1.275260        1         0          0            1            0  \n",
       "1 -0.263711        1         0          1            0            0  \n",
       "2 -1.627858        1         0          1            0            0  \n",
       "3 -2.153192        1         0          1            0            0  \n",
       "4 -1.162114        1         0          1            0            0  "
      ]
     },
     "execution_count": 40,
     "metadata": {},
     "output_type": "execute_result"
    }
   ],
   "source": [
    "boston_features.head()"
   ]
  },
  {
   "cell_type": "markdown",
   "metadata": {},
   "source": [
    "## Run an linear model in Statsmodels"
   ]
  },
  {
   "cell_type": "code",
   "execution_count": 41,
   "metadata": {},
   "outputs": [],
   "source": [
    "import statsmodels.api as sm\n",
    "from statsmodels.formula.api import ols"
   ]
  },
  {
   "cell_type": "code",
   "execution_count": 42,
   "metadata": {},
   "outputs": [],
   "source": [
    "boston_target= pd.DataFrame(boston.target)\n",
    "boston_target['target']=boston_target[0]\n",
    "boston_target = boston_target.drop(columns=0)\n",
    "boston_full = pd.concat([boston_features, boston_target], axis=1)"
   ]
  },
  {
   "cell_type": "code",
   "execution_count": 45,
   "metadata": {},
   "outputs": [
    {
     "data": {
      "text/html": [
       "<table class=\"simpletable\">\n",
       "<caption>OLS Regression Results</caption>\n",
       "<tr>\n",
       "  <th>Dep. Variable:</th>         <td>target</td>      <th>  R-squared:         </th> <td>   0.779</td> \n",
       "</tr>\n",
       "<tr>\n",
       "  <th>Model:</th>                   <td>OLS</td>       <th>  Adj. R-squared:    </th> <td>   0.774</td> \n",
       "</tr>\n",
       "<tr>\n",
       "  <th>Method:</th>             <td>Least Squares</td>  <th>  F-statistic:       </th> <td>   144.9</td> \n",
       "</tr>\n",
       "<tr>\n",
       "  <th>Date:</th>             <td>Mon, 10 Dec 2018</td> <th>  Prob (F-statistic):</th> <td>5.15e-153</td>\n",
       "</tr>\n",
       "<tr>\n",
       "  <th>Time:</th>                 <td>20:37:16</td>     <th>  Log-Likelihood:    </th> <td> -1458.2</td> \n",
       "</tr>\n",
       "<tr>\n",
       "  <th>No. Observations:</th>      <td>   506</td>      <th>  AIC:               </th> <td>   2942.</td> \n",
       "</tr>\n",
       "<tr>\n",
       "  <th>Df Residuals:</th>          <td>   493</td>      <th>  BIC:               </th> <td>   2997.</td> \n",
       "</tr>\n",
       "<tr>\n",
       "  <th>Df Model:</th>              <td>    12</td>      <th>                     </th>     <td> </td>    \n",
       "</tr>\n",
       "<tr>\n",
       "  <th>Covariance Type:</th>      <td>nonrobust</td>    <th>                     </th>     <td> </td>    \n",
       "</tr>\n",
       "</table>\n",
       "<table class=\"simpletable\">\n",
       "<tr>\n",
       "       <td></td>          <th>coef</th>     <th>std err</th>      <th>t</th>      <th>P>|t|</th>  <th>[0.025</th>    <th>0.975]</th>  \n",
       "</tr>\n",
       "<tr>\n",
       "  <th>Intercept</th>   <td>    4.4397</td> <td>    1.785</td> <td>    2.487</td> <td> 0.013</td> <td>    0.933</td> <td>    7.947</td>\n",
       "</tr>\n",
       "<tr>\n",
       "  <th>CRIM</th>        <td>   -1.9000</td> <td>    2.091</td> <td>   -0.909</td> <td> 0.364</td> <td>   -6.009</td> <td>    2.209</td>\n",
       "</tr>\n",
       "<tr>\n",
       "  <th>INDUS</th>       <td>   -0.8069</td> <td>    0.362</td> <td>   -2.228</td> <td> 0.026</td> <td>   -1.518</td> <td>   -0.095</td>\n",
       "</tr>\n",
       "<tr>\n",
       "  <th>CHAS</th>        <td>    2.5968</td> <td>    0.796</td> <td>    3.262</td> <td> 0.001</td> <td>    1.033</td> <td>    4.161</td>\n",
       "</tr>\n",
       "<tr>\n",
       "  <th>RM</th>          <td>    2.6445</td> <td>    0.408</td> <td>    6.480</td> <td> 0.000</td> <td>    1.843</td> <td>    3.446</td>\n",
       "</tr>\n",
       "<tr>\n",
       "  <th>AGE</th>         <td>    0.0787</td> <td>    0.352</td> <td>    0.224</td> <td> 0.823</td> <td>   -0.612</td> <td>    0.770</td>\n",
       "</tr>\n",
       "<tr>\n",
       "  <th>DIS</th>         <td>  -10.0839</td> <td>    1.855</td> <td>   -5.437</td> <td> 0.000</td> <td>  -13.728</td> <td>   -6.440</td>\n",
       "</tr>\n",
       "<tr>\n",
       "  <th>PTRATIO</th>     <td>   -1.4864</td> <td>    0.241</td> <td>   -6.159</td> <td> 0.000</td> <td>   -1.961</td> <td>   -1.012</td>\n",
       "</tr>\n",
       "<tr>\n",
       "  <th>B</th>           <td>    3.8623</td> <td>    0.981</td> <td>    3.935</td> <td> 0.000</td> <td>    1.934</td> <td>    5.791</td>\n",
       "</tr>\n",
       "<tr>\n",
       "  <th>LSTAT</th>       <td>   -5.6315</td> <td>    0.354</td> <td>  -15.929</td> <td> 0.000</td> <td>   -6.326</td> <td>   -4.937</td>\n",
       "</tr>\n",
       "<tr>\n",
       "  <th>RAD0to6</th>     <td>    1.5563</td> <td>    0.821</td> <td>    1.896</td> <td> 0.059</td> <td>   -0.056</td> <td>    3.169</td>\n",
       "</tr>\n",
       "<tr>\n",
       "  <th>RAD6to24</th>    <td>    2.8834</td> <td>    1.069</td> <td>    2.697</td> <td> 0.007</td> <td>    0.783</td> <td>    4.984</td>\n",
       "</tr>\n",
       "<tr>\n",
       "  <th>TAX0to270</th>   <td>    2.6166</td> <td>    0.715</td> <td>    3.661</td> <td> 0.000</td> <td>    1.212</td> <td>    4.021</td>\n",
       "</tr>\n",
       "<tr>\n",
       "  <th>TAX270to360</th> <td>    1.3553</td> <td>    0.702</td> <td>    1.930</td> <td> 0.054</td> <td>   -0.025</td> <td>    2.735</td>\n",
       "</tr>\n",
       "<tr>\n",
       "  <th>TAX360to712</th> <td>    0.4679</td> <td>    0.683</td> <td>    0.685</td> <td> 0.493</td> <td>   -0.873</td> <td>    1.809</td>\n",
       "</tr>\n",
       "</table>\n",
       "<table class=\"simpletable\">\n",
       "<tr>\n",
       "  <th>Omnibus:</th>       <td>106.736</td> <th>  Durbin-Watson:     </th> <td>   1.093</td>\n",
       "</tr>\n",
       "<tr>\n",
       "  <th>Prob(Omnibus):</th> <td> 0.000</td>  <th>  Jarque-Bera (JB):  </th> <td> 431.931</td>\n",
       "</tr>\n",
       "<tr>\n",
       "  <th>Skew:</th>          <td> 0.891</td>  <th>  Prob(JB):          </th> <td>1.61e-94</td>\n",
       "</tr>\n",
       "<tr>\n",
       "  <th>Kurtosis:</th>      <td> 7.161</td>  <th>  Cond. No.          </th> <td>6.27e+16</td>\n",
       "</tr>\n",
       "</table><br/><br/>Warnings:<br/>[1] Standard Errors assume that the covariance matrix of the errors is correctly specified.<br/>[2] The smallest eigenvalue is 5.55e-30. This might indicate that there are<br/>strong multicollinearity problems or that the design matrix is singular."
      ],
      "text/plain": [
       "<class 'statsmodels.iolib.summary.Summary'>\n",
       "\"\"\"\n",
       "                            OLS Regression Results                            \n",
       "==============================================================================\n",
       "Dep. Variable:                 target   R-squared:                       0.779\n",
       "Model:                            OLS   Adj. R-squared:                  0.774\n",
       "Method:                 Least Squares   F-statistic:                     144.9\n",
       "Date:                Mon, 10 Dec 2018   Prob (F-statistic):          5.15e-153\n",
       "Time:                        20:37:16   Log-Likelihood:                -1458.2\n",
       "No. Observations:                 506   AIC:                             2942.\n",
       "Df Residuals:                     493   BIC:                             2997.\n",
       "Df Model:                          12                                         \n",
       "Covariance Type:            nonrobust                                         \n",
       "===============================================================================\n",
       "                  coef    std err          t      P>|t|      [0.025      0.975]\n",
       "-------------------------------------------------------------------------------\n",
       "Intercept       4.4397      1.785      2.487      0.013       0.933       7.947\n",
       "CRIM           -1.9000      2.091     -0.909      0.364      -6.009       2.209\n",
       "INDUS          -0.8069      0.362     -2.228      0.026      -1.518      -0.095\n",
       "CHAS            2.5968      0.796      3.262      0.001       1.033       4.161\n",
       "RM              2.6445      0.408      6.480      0.000       1.843       3.446\n",
       "AGE             0.0787      0.352      0.224      0.823      -0.612       0.770\n",
       "DIS           -10.0839      1.855     -5.437      0.000     -13.728      -6.440\n",
       "PTRATIO        -1.4864      0.241     -6.159      0.000      -1.961      -1.012\n",
       "B               3.8623      0.981      3.935      0.000       1.934       5.791\n",
       "LSTAT          -5.6315      0.354    -15.929      0.000      -6.326      -4.937\n",
       "RAD0to6         1.5563      0.821      1.896      0.059      -0.056       3.169\n",
       "RAD6to24        2.8834      1.069      2.697      0.007       0.783       4.984\n",
       "TAX0to270       2.6166      0.715      3.661      0.000       1.212       4.021\n",
       "TAX270to360     1.3553      0.702      1.930      0.054      -0.025       2.735\n",
       "TAX360to712     0.4679      0.683      0.685      0.493      -0.873       1.809\n",
       "==============================================================================\n",
       "Omnibus:                      106.736   Durbin-Watson:                   1.093\n",
       "Prob(Omnibus):                  0.000   Jarque-Bera (JB):              431.931\n",
       "Skew:                           0.891   Prob(JB):                     1.61e-94\n",
       "Kurtosis:                       7.161   Cond. No.                     6.27e+16\n",
       "==============================================================================\n",
       "\n",
       "Warnings:\n",
       "[1] Standard Errors assume that the covariance matrix of the errors is correctly specified.\n",
       "[2] The smallest eigenvalue is 5.55e-30. This might indicate that there are\n",
       "strong multicollinearity problems or that the design matrix is singular.\n",
       "\"\"\""
      ]
     },
     "execution_count": 45,
     "metadata": {},
     "output_type": "execute_result"
    }
   ],
   "source": [
    "features = \"+\".join(boston_features.columns)\n",
    "formula = 'target~'+features\n",
    "\n",
    "model = ols(formula=formula, data=boston_full).fit()\n",
    "model.summary()"
   ]
  },
  {
   "cell_type": "markdown",
   "metadata": {},
   "source": [
    "## Run the same model in Scikit-learn"
   ]
  },
  {
   "cell_type": "code",
   "execution_count": 46,
   "metadata": {},
   "outputs": [
    {
     "data": {
      "text/plain": [
       "LinearRegression(copy_X=True, fit_intercept=True, n_jobs=1, normalize=False)"
      ]
     },
     "execution_count": 46,
     "metadata": {},
     "output_type": "execute_result"
    }
   ],
   "source": [
    "from sklearn.linear_model import LinearRegression\n",
    "y = boston_full['target']\n",
    "linereg = LinearRegression()\n",
    "linereg.fit(boston_features, y)"
   ]
  },
  {
   "cell_type": "code",
   "execution_count": 47,
   "metadata": {},
   "outputs": [
    {
     "data": {
      "text/plain": [
       "array([ -1.89995316,  -0.80688617,   2.59684028,   2.64453176,\n",
       "         0.0786663 , -10.0839112 ,  -1.48638161,   3.86233002,\n",
       "        -5.63145746,  -0.66357383,   0.66357383,   1.13664819,\n",
       "        -0.12462051,  -1.01202768])"
      ]
     },
     "execution_count": 47,
     "metadata": {},
     "output_type": "execute_result"
    }
   ],
   "source": [
    "linereg.coef_"
   ]
  },
  {
   "cell_type": "code",
   "execution_count": 48,
   "metadata": {},
   "outputs": [
    {
     "data": {
      "text/plain": [
       "8.13952370766285"
      ]
     },
     "execution_count": 48,
     "metadata": {},
     "output_type": "execute_result"
    }
   ],
   "source": [
    "linereg.intercept_"
   ]
  },
  {
   "cell_type": "markdown",
   "metadata": {},
   "source": [
    "## Remove the necessary variables to make sure the coefficients are the same for Scikit-learn vs Statsmodels"
   ]
  },
  {
   "cell_type": "code",
   "execution_count": 49,
   "metadata": {},
   "outputs": [],
   "source": [
    "boston_full = boston_full.drop(columns=['TAX360to712', 'RAD6to24'])\n"
   ]
  },
  {
   "cell_type": "code",
   "execution_count": 50,
   "metadata": {},
   "outputs": [],
   "source": [
    "boston_features = boston_features.drop(columns=['TAX360to712', 'RAD6to24'])"
   ]
  },
  {
   "cell_type": "markdown",
   "metadata": {},
   "source": [
    "### Statsmodels"
   ]
  },
  {
   "cell_type": "code",
   "execution_count": 51,
   "metadata": {},
   "outputs": [
    {
     "data": {
      "text/html": [
       "<table class=\"simpletable\">\n",
       "<caption>OLS Regression Results</caption>\n",
       "<tr>\n",
       "  <th>Dep. Variable:</th>         <td>target</td>      <th>  R-squared:         </th> <td>   0.779</td> \n",
       "</tr>\n",
       "<tr>\n",
       "  <th>Model:</th>                   <td>OLS</td>       <th>  Adj. R-squared:    </th> <td>   0.774</td> \n",
       "</tr>\n",
       "<tr>\n",
       "  <th>Method:</th>             <td>Least Squares</td>  <th>  F-statistic:       </th> <td>   144.9</td> \n",
       "</tr>\n",
       "<tr>\n",
       "  <th>Date:</th>             <td>Mon, 10 Dec 2018</td> <th>  Prob (F-statistic):</th> <td>5.15e-153</td>\n",
       "</tr>\n",
       "<tr>\n",
       "  <th>Time:</th>                 <td>20:42:31</td>     <th>  Log-Likelihood:    </th> <td> -1458.2</td> \n",
       "</tr>\n",
       "<tr>\n",
       "  <th>No. Observations:</th>      <td>   506</td>      <th>  AIC:               </th> <td>   2942.</td> \n",
       "</tr>\n",
       "<tr>\n",
       "  <th>Df Residuals:</th>          <td>   493</td>      <th>  BIC:               </th> <td>   2997.</td> \n",
       "</tr>\n",
       "<tr>\n",
       "  <th>Df Model:</th>              <td>    12</td>      <th>                     </th>     <td> </td>    \n",
       "</tr>\n",
       "<tr>\n",
       "  <th>Covariance Type:</th>      <td>nonrobust</td>    <th>                     </th>     <td> </td>    \n",
       "</tr>\n",
       "</table>\n",
       "<table class=\"simpletable\">\n",
       "<tr>\n",
       "       <td></td>          <th>coef</th>     <th>std err</th>      <th>t</th>      <th>P>|t|</th>  <th>[0.025</th>    <th>0.975]</th>  \n",
       "</tr>\n",
       "<tr>\n",
       "  <th>Intercept</th>   <td>    7.7911</td> <td>    3.406</td> <td>    2.288</td> <td> 0.023</td> <td>    1.100</td> <td>   14.482</td>\n",
       "</tr>\n",
       "<tr>\n",
       "  <th>CRIM</th>        <td>   -1.9000</td> <td>    2.091</td> <td>   -0.909</td> <td> 0.364</td> <td>   -6.009</td> <td>    2.209</td>\n",
       "</tr>\n",
       "<tr>\n",
       "  <th>INDUS</th>       <td>   -0.8069</td> <td>    0.362</td> <td>   -2.228</td> <td> 0.026</td> <td>   -1.518</td> <td>   -0.095</td>\n",
       "</tr>\n",
       "<tr>\n",
       "  <th>CHAS</th>        <td>    2.5968</td> <td>    0.796</td> <td>    3.262</td> <td> 0.001</td> <td>    1.033</td> <td>    4.161</td>\n",
       "</tr>\n",
       "<tr>\n",
       "  <th>RM</th>          <td>    2.6445</td> <td>    0.408</td> <td>    6.480</td> <td> 0.000</td> <td>    1.843</td> <td>    3.446</td>\n",
       "</tr>\n",
       "<tr>\n",
       "  <th>AGE</th>         <td>    0.0787</td> <td>    0.352</td> <td>    0.224</td> <td> 0.823</td> <td>   -0.612</td> <td>    0.770</td>\n",
       "</tr>\n",
       "<tr>\n",
       "  <th>DIS</th>         <td>  -10.0839</td> <td>    1.855</td> <td>   -5.437</td> <td> 0.000</td> <td>  -13.728</td> <td>   -6.440</td>\n",
       "</tr>\n",
       "<tr>\n",
       "  <th>PTRATIO</th>     <td>   -1.4864</td> <td>    0.241</td> <td>   -6.159</td> <td> 0.000</td> <td>   -1.961</td> <td>   -1.012</td>\n",
       "</tr>\n",
       "<tr>\n",
       "  <th>B</th>           <td>    3.8623</td> <td>    0.981</td> <td>    3.935</td> <td> 0.000</td> <td>    1.934</td> <td>    5.791</td>\n",
       "</tr>\n",
       "<tr>\n",
       "  <th>LSTAT</th>       <td>   -5.6315</td> <td>    0.354</td> <td>  -15.929</td> <td> 0.000</td> <td>   -6.326</td> <td>   -4.937</td>\n",
       "</tr>\n",
       "<tr>\n",
       "  <th>RAD0to6</th>     <td>   -1.3271</td> <td>    0.669</td> <td>   -1.983</td> <td> 0.048</td> <td>   -2.642</td> <td>   -0.012</td>\n",
       "</tr>\n",
       "<tr>\n",
       "  <th>TAX0to270</th>   <td>    2.1487</td> <td>    0.704</td> <td>    3.051</td> <td> 0.002</td> <td>    0.765</td> <td>    3.532</td>\n",
       "</tr>\n",
       "<tr>\n",
       "  <th>TAX270to360</th> <td>    0.8874</td> <td>    0.607</td> <td>    1.461</td> <td> 0.145</td> <td>   -0.306</td> <td>    2.081</td>\n",
       "</tr>\n",
       "</table>\n",
       "<table class=\"simpletable\">\n",
       "<tr>\n",
       "  <th>Omnibus:</th>       <td>106.736</td> <th>  Durbin-Watson:     </th> <td>   1.093</td>\n",
       "</tr>\n",
       "<tr>\n",
       "  <th>Prob(Omnibus):</th> <td> 0.000</td>  <th>  Jarque-Bera (JB):  </th> <td> 431.931</td>\n",
       "</tr>\n",
       "<tr>\n",
       "  <th>Skew:</th>          <td> 0.891</td>  <th>  Prob(JB):          </th> <td>1.61e-94</td>\n",
       "</tr>\n",
       "<tr>\n",
       "  <th>Kurtosis:</th>      <td> 7.161</td>  <th>  Cond. No.          </th> <td>    126.</td>\n",
       "</tr>\n",
       "</table><br/><br/>Warnings:<br/>[1] Standard Errors assume that the covariance matrix of the errors is correctly specified."
      ],
      "text/plain": [
       "<class 'statsmodels.iolib.summary.Summary'>\n",
       "\"\"\"\n",
       "                            OLS Regression Results                            \n",
       "==============================================================================\n",
       "Dep. Variable:                 target   R-squared:                       0.779\n",
       "Model:                            OLS   Adj. R-squared:                  0.774\n",
       "Method:                 Least Squares   F-statistic:                     144.9\n",
       "Date:                Mon, 10 Dec 2018   Prob (F-statistic):          5.15e-153\n",
       "Time:                        20:42:31   Log-Likelihood:                -1458.2\n",
       "No. Observations:                 506   AIC:                             2942.\n",
       "Df Residuals:                     493   BIC:                             2997.\n",
       "Df Model:                          12                                         \n",
       "Covariance Type:            nonrobust                                         \n",
       "===============================================================================\n",
       "                  coef    std err          t      P>|t|      [0.025      0.975]\n",
       "-------------------------------------------------------------------------------\n",
       "Intercept       7.7911      3.406      2.288      0.023       1.100      14.482\n",
       "CRIM           -1.9000      2.091     -0.909      0.364      -6.009       2.209\n",
       "INDUS          -0.8069      0.362     -2.228      0.026      -1.518      -0.095\n",
       "CHAS            2.5968      0.796      3.262      0.001       1.033       4.161\n",
       "RM              2.6445      0.408      6.480      0.000       1.843       3.446\n",
       "AGE             0.0787      0.352      0.224      0.823      -0.612       0.770\n",
       "DIS           -10.0839      1.855     -5.437      0.000     -13.728      -6.440\n",
       "PTRATIO        -1.4864      0.241     -6.159      0.000      -1.961      -1.012\n",
       "B               3.8623      0.981      3.935      0.000       1.934       5.791\n",
       "LSTAT          -5.6315      0.354    -15.929      0.000      -6.326      -4.937\n",
       "RAD0to6        -1.3271      0.669     -1.983      0.048      -2.642      -0.012\n",
       "TAX0to270       2.1487      0.704      3.051      0.002       0.765       3.532\n",
       "TAX270to360     0.8874      0.607      1.461      0.145      -0.306       2.081\n",
       "==============================================================================\n",
       "Omnibus:                      106.736   Durbin-Watson:                   1.093\n",
       "Prob(Omnibus):                  0.000   Jarque-Bera (JB):              431.931\n",
       "Skew:                           0.891   Prob(JB):                     1.61e-94\n",
       "Kurtosis:                       7.161   Cond. No.                         126.\n",
       "==============================================================================\n",
       "\n",
       "Warnings:\n",
       "[1] Standard Errors assume that the covariance matrix of the errors is correctly specified.\n",
       "\"\"\""
      ]
     },
     "execution_count": 51,
     "metadata": {},
     "output_type": "execute_result"
    }
   ],
   "source": [
    "features = \"+\".join(boston_features.columns)\n",
    "formula = 'target~'+features\n",
    "\n",
    "model = ols(formula=formula, data=boston_full).fit()\n",
    "model.summary()"
   ]
  },
  {
   "cell_type": "markdown",
   "metadata": {},
   "source": [
    "### Scikit-learn"
   ]
  },
  {
   "cell_type": "code",
   "execution_count": 52,
   "metadata": {},
   "outputs": [
    {
     "data": {
      "text/plain": [
       "LinearRegression(copy_X=True, fit_intercept=True, n_jobs=1, normalize=False)"
      ]
     },
     "execution_count": 52,
     "metadata": {},
     "output_type": "execute_result"
    }
   ],
   "source": [
    "y = boston_full['target']\n",
    "linereg = LinearRegression()\n",
    "linereg.fit(boston_features, y)"
   ]
  },
  {
   "cell_type": "code",
   "execution_count": 53,
   "metadata": {},
   "outputs": [
    {
     "data": {
      "text/plain": [
       "array([ -1.89995316,  -0.80688617,   2.59684028,   2.64453176,\n",
       "         0.0786663 , -10.0839112 ,  -1.48638161,   3.86233002,\n",
       "        -5.63145746,  -1.32714767,   2.14867587,   0.88740717])"
      ]
     },
     "execution_count": 53,
     "metadata": {},
     "output_type": "execute_result"
    }
   ],
   "source": [
    "linereg.coef_"
   ]
  },
  {
   "cell_type": "code",
   "execution_count": 54,
   "metadata": {},
   "outputs": [
    {
     "data": {
      "text/plain": [
       "7.791069861812664"
      ]
     },
     "execution_count": 54,
     "metadata": {},
     "output_type": "execute_result"
    }
   ],
   "source": [
    "linereg.intercept_"
   ]
  },
  {
   "cell_type": "markdown",
   "metadata": {},
   "source": [
    "## Interpret the coefficients for PTRATIO, PTRATIO, LSTAT"
   ]
  },
  {
   "cell_type": "markdown",
   "metadata": {},
   "source": [
    "- CRIM: per capita crime rate by town\n",
    "- INDUS: proportion of non-retail business acres per town\n",
    "- CHAS: Charles River dummy variable (= 1 if tract bounds river; 0 otherwise)\n",
    "- RM: average number of rooms per dwelling\n",
    "- AGE: proportion of owner-occupied units built prior to 1940\n",
    "- DIS: weighted distances to five Boston employment centres\n",
    "- RAD: index of accessibility to radial highways\n",
    "- TAX: full-value property-tax rate per $10,000\n",
    "- PTRATIO: pupil-teacher ratio by town\n",
    "- B: 1000(Bk - 0.63)^2 where Bk is the proportion of blacks by town\n",
    "- LSTAT: % lower status of the population"
   ]
  },
  {
   "cell_type": "markdown",
   "metadata": {},
   "source": [
    "## Predict the house price given the following characteristics (before manipulation!!)\n",
    "\n",
    "Make sure to transform your variables as needed!\n",
    "\n",
    "- CRIM: 0.15\n",
    "- INDUS: 6.07\n",
    "- CHAS: 1        \n",
    "- RM:  6.1\n",
    "- AGE: 33.2\n",
    "- DIS: 7.6\n",
    "- PTRATIO: 17\n",
    "- B: 383\n",
    "- LSTAT: 10.87\n",
    "- RAD: 8\n",
    "- TAX: 284"
   ]
  },
  {
   "cell_type": "code",
   "execution_count": 104,
   "metadata": {},
   "outputs": [
    {
     "data": {
      "text/plain": [
       "array([1501.6826008])"
      ]
     },
     "execution_count": 104,
     "metadata": {},
     "output_type": "execute_result"
    }
   ],
   "source": [
    "lcrim = np.log(.15)\n",
    "ldis = np.log(7.6)\n",
    "lindus = np.log(6.07)\n",
    "llstat = np.log(10.87)\n",
    "lptratio = np.log(17)\n",
    "\n",
    "# minmax scaling\n",
    "B = (383-min(b))/(max(b)-min(b))\n",
    "CRIM = (lcrim-min(logcrim))/(max(logcrim)-min(logcrim))\n",
    "DIS = (ldis-min(logdis))/(max(logdis)-min(logdis))\n",
    "\n",
    "#standardization\n",
    "AGE = (33.2-np.mean(age))/np.sqrt(np.var(age))\n",
    "INDUS = (lindus-np.mean(logindus))/np.sqrt(np.var(logindus))\n",
    "LSTAT = (llstat-np.mean(loglstat))/np.sqrt(np.var(loglstat))\n",
    "PTRATIO = (lptratio-np.mean(logptratio))/(np.sqrt(np.var(logptratio)))\n",
    "\n",
    "preds = np.array([[CRIM, INDUS, 1, 6.1, AGE, DIS, PTRATIO, B, LSTAT, 0, 0, 1]])\n",
    "\n",
    "linereg.predict(preds)\n"
   ]
  },
  {
   "cell_type": "markdown",
   "metadata": {},
   "source": [
    "## Summary\n",
    "Congratulations! You've fitted your first multiple linear regression model on the Boston Housing Data."
   ]
  }
 ],
 "metadata": {
  "kernelspec": {
   "display_name": "Python 3",
   "language": "python",
   "name": "python3"
  },
  "language_info": {
   "codemirror_mode": {
    "name": "ipython",
    "version": 3
   },
   "file_extension": ".py",
   "mimetype": "text/x-python",
   "name": "python",
   "nbconvert_exporter": "python",
   "pygments_lexer": "ipython3",
   "version": "3.6.5"
  }
 },
 "nbformat": 4,
 "nbformat_minor": 2
}
